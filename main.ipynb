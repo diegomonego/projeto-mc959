{
 "cells": [
  {
   "cell_type": "code",
   "execution_count": 3,
   "id": "a1914566-f8df-4f6d-8b02-d783377c1639",
   "metadata": {},
   "outputs": [
    {
     "name": "stdout",
     "output_type": "stream",
     "text": [
      "CSV Statistics:\n",
      "Number of entries (rows): 268729\n",
      "Number of columns: 3\n",
      "Column names: ['cve_id', 'description', 'cwe']\n",
      "\n",
      "Data Overview:\n",
      "<class 'pandas.core.frame.DataFrame'>\n",
      "RangeIndex: 268729 entries, 0 to 268728\n",
      "Data columns (total 3 columns):\n",
      " #   Column       Non-Null Count   Dtype \n",
      "---  ------       --------------   ----- \n",
      " 0   cve_id       268729 non-null  object\n",
      " 1   description  249286 non-null  object\n",
      " 2   cwe          247431 non-null  object\n",
      "dtypes: object(3)\n",
      "memory usage: 6.2+ MB\n",
      "None\n",
      "\n",
      "First 5 rows of the data:\n",
      "        cve_id                                        description cwe\n",
      "0  CVE20132824  SchneiderElectricStruxureWareSCADAExpertVijeoC...  na\n",
      "1  CVE20132127  BufferoverflowintheexposurecorrectioncodeinLib...  na\n",
      "2  CVE20132577  BufferoverflowinXnViewbefore204allowsremoteatt...  na\n",
      "3  CVE20132598  appabootabootcintheLittleKernelLKbootloaderasd...  na\n",
      "4  CVE20132062  MultipleintegeroverflowsinXorglibXp101andearli...  na\n"
     ]
    }
   ],
   "source": [
    "import pandas as pd\n",
    "\n",
    "def csv_stats(file_path):\n",
    "    # Read the CSV file\n",
    "    data = pd.read_csv(file_path)\n",
    "    \n",
    "    # Print basic stats\n",
    "    print(\"CSV Statistics:\")\n",
    "    print(f\"Number of entries (rows): {data.shape[0]}\")\n",
    "    print(f\"Number of columns: {data.shape[1]}\")\n",
    "    print(\"Column names:\", list(data.columns))\n",
    "    \n",
    "    # Show some general information about the CSV data\n",
    "    print(\"\\nData Overview:\")\n",
    "    print(data.info())\n",
    "    print(\"\\nFirst 5 rows of the data:\")\n",
    "    print(data.head())\n",
    "\n",
    "csv_stats(\"consolidated_cve_data.csv\")"
   ]
  },
  {
   "cell_type": "code",
   "execution_count": null,
   "id": "00ee14a8-526c-4b08-8f5a-de23b872cd68",
   "metadata": {},
   "outputs": [],
   "source": []
  }
 ],
 "metadata": {
  "kernelspec": {
   "display_name": "Python 3 (ipykernel)",
   "language": "python",
   "name": "python3"
  },
  "language_info": {
   "codemirror_mode": {
    "name": "ipython",
    "version": 3
   },
   "file_extension": ".py",
   "mimetype": "text/x-python",
   "name": "python",
   "nbconvert_exporter": "python",
   "pygments_lexer": "ipython3",
   "version": "3.11.6"
  }
 },
 "nbformat": 4,
 "nbformat_minor": 5
}
